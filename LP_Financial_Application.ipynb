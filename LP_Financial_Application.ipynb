{
  "nbformat": 4,
  "nbformat_minor": 0,
  "metadata": {
    "colab": {
      "provenance": [],
      "authorship_tag": "ABX9TyPsqtFnCVp8AgXgU0pm+bL6",
      "include_colab_link": true
    },
    "kernelspec": {
      "name": "python3",
      "display_name": "Python 3"
    },
    "language_info": {
      "name": "python"
    }
  },
  "cells": [
    {
      "cell_type": "markdown",
      "metadata": {
        "id": "view-in-github",
        "colab_type": "text"
      },
      "source": [
        "<a href=\"https://colab.research.google.com/github/kankeinai/Portfolio-Selection-Problem/blob/main/LP_Financial_Application.ipynb\" target=\"_parent\"><img src=\"https://colab.research.google.com/assets/colab-badge.svg\" alt=\"Open In Colab\"/></a>"
      ]
    },
    {
      "cell_type": "markdown",
      "source": [
        "#Application of Linear programming in Finance"
      ],
      "metadata": {
        "id": "qO6sGVaswDrJ"
      }
    },
    {
      "cell_type": "markdown",
      "source": [
        "##Introduction"
      ],
      "metadata": {
        "id": "Lhiu6os3xSBD"
      }
    },
    {
      "cell_type": "markdown",
      "source": [
        "In this jupyter notebook, we are going to investigate how linear programming can be used in order to solve portfolio selection problem."
      ],
      "metadata": {
        "id": "4s8rU36PwY-v"
      }
    },
    {
      "cell_type": "code",
      "execution_count": 1,
      "metadata": {
        "id": "DMLL404uMZH1",
        "colab": {
          "base_uri": "https://localhost:8080/"
        },
        "outputId": "745c3f37-0a92-41b5-d4eb-94c20e920d1c"
      },
      "outputs": [
        {
          "output_type": "stream",
          "name": "stdout",
          "text": [
            "Drive already mounted at /content/drive; to attempt to forcibly remount, call drive.mount(\"/content/drive\", force_remount=True).\n"
          ]
        }
      ],
      "source": [
        "# import all needed libraries\n",
        "import numpy as np\n",
        "import pandas as pd\n",
        "import matplotlib.pyplot as plt\n",
        "from numpy.linalg import inv\n",
        "from scipy.optimize import linprog\n",
        "\n",
        "# connect google drive to access file with data\n",
        "from google.colab import drive\n",
        "drive.mount('/content/drive')"
      ]
    },
    {
      "cell_type": "markdown",
      "source": [
        "We are going to apply algorithms to the small dataset provided by the book \"Linear Programming: Foundations and Extensions\" by Robert J. Vanderbei.\n",
        "\n",
        "We copied it and stored in a .csv file."
      ],
      "metadata": {
        "id": "YdO8sBQCw1XK"
      }
    },
    {
      "cell_type": "markdown",
      "source": [
        "##Extract and prepare data"
      ],
      "metadata": {
        "id": "9wFouLjuOq_W"
      }
    },
    {
      "cell_type": "code",
      "source": [
        "# take data from 2ms to 6 ms, as it was requested and drop column time, \n",
        "# since it's not needed anymore\n",
        "\n",
        "data = pd.read_csv('/content/drive/MyDrive/LP Project/Financial data - Sheet1.csv')\n",
        "\n",
        "data"
      ],
      "metadata": {
        "colab": {
          "base_uri": "https://localhost:8080/",
          "height": 793
        },
        "id": "Z2QC32dbMn9a",
        "outputId": "d8d92437-a481-4ad8-9b76-a138cfacf929"
      },
      "execution_count": 2,
      "outputs": [
        {
          "output_type": "execute_result",
          "data": {
            "text/plain": [
              "   Year- Month  SHY Bonds  XLB Materials  XLE Energy  XLF Financial  \\\n",
              "0     2007-04       1.000          1.044       1.068          1.016   \n",
              "1     2007-03       1.003          1.015       1.051          1.039   \n",
              "2     2007-02       1.005          1.024       1.062          0.994   \n",
              "3     2007-01       1.007          1.027       0.980          0.971   \n",
              "4     2006-12       1.002          1.040       0.991          1.009   \n",
              "5     2006-11       1.001          0.995       0.969          1.030   \n",
              "6     2006-10       1.005          1.044       1.086          1.007   \n",
              "7     2006-09       1.004          1.060       1.043          1.023   \n",
              "8     2006-08       1.004          1.000       0.963          1.040   \n",
              "9     2006-07       1.008          1.030       0.949          1.012   \n",
              "10    2006-06       1.007          0.963       1.034          1.023   \n",
              "11    2006-05       1.002          1.005       1.022          0.995   \n",
              "12    2006-04       1.002          0.960       0.972          0.962   \n",
              "13    2006-03       1.002          1.035       1.050          1.043   \n",
              "14    2006-02       1.002          1.047       1.042          1.003   \n",
              "15    2006-01       1.000          0.978       0.908          1.021   \n",
              "16    2005-12       1.002          1.048       1.146          1.009   \n",
              "17    2005-11       1.004          1.029       1.018          1.000   \n",
              "18    2005-10       1.004          1.076       1.015          1.048   \n",
              "19    2005-09       0.999          1.002       0.909          1.030   \n",
              "20    2005-08       0.997          1.008       1.063          1.009   \n",
              "21    2005-07       1.007          0.958       1.064          0.983   \n",
              "22    2005-06       0.996          1.056       1.071          1.016   \n",
              "23    2005-05       1.002          0.980       1.070          1.012   \n",
              "\n",
              "    XLI Indust.  XLK Tech.  XLP Staples  XLU Util.  XLV Health  \n",
              "0         1.035      1.032        1.004      0.987       1.014  \n",
              "1         1.046      1.047        1.028      1.049       1.073  \n",
              "2         1.008      1.010        1.021      1.036       1.002  \n",
              "3         0.989      0.973        0.985      1.053       0.977  \n",
              "4         1.021      1.020        1.020      0.996       1.030  \n",
              "5         0.997      0.989        1.020      0.999       1.007  \n",
              "6         1.024      1.028        0.991      1.026       0.999  \n",
              "7         1.028      1.040        1.018      1.053       1.003  \n",
              "8         1.038      1.040        0.999      0.985       1.015  \n",
              "9         1.011      1.070        1.039      1.028       1.029  \n",
              "10        0.943      0.974        1.016      1.048       1.055  \n",
              "11        0.999      0.995        1.018      1.023       1.000  \n",
              "12        0.983      0.935        1.002      1.016       0.979  \n",
              "13        1.021      0.987        1.010      1.016       0.969  \n",
              "14        1.044      1.023        1.008      0.954       0.987  \n",
              "15        1.031      1.002        1.008      1.013       1.012  \n",
              "16        1.003      1.034        1.002      1.024       1.013  \n",
              "17        1.005      0.969        1.001      1.009       1.035  \n",
              "18        1.058      1.063        1.009      0.999       1.012  \n",
              "19        0.986      0.977        0.996      0.936       0.969  \n",
              "20        1.017      1.002        1.014      1.042       0.995  \n",
              "21        0.976      0.991        0.983      1.006       0.996  \n",
              "22        1.038      1.057        1.032      1.023       1.023  \n",
              "23        0.974      0.987        0.981      1.059       0.994  "
            ],
            "text/html": [
              "\n",
              "  <div id=\"df-2f88ae94-25aa-4c06-9de8-3f67a99c0c41\">\n",
              "    <div class=\"colab-df-container\">\n",
              "      <div>\n",
              "<style scoped>\n",
              "    .dataframe tbody tr th:only-of-type {\n",
              "        vertical-align: middle;\n",
              "    }\n",
              "\n",
              "    .dataframe tbody tr th {\n",
              "        vertical-align: top;\n",
              "    }\n",
              "\n",
              "    .dataframe thead th {\n",
              "        text-align: right;\n",
              "    }\n",
              "</style>\n",
              "<table border=\"1\" class=\"dataframe\">\n",
              "  <thead>\n",
              "    <tr style=\"text-align: right;\">\n",
              "      <th></th>\n",
              "      <th>Year- Month</th>\n",
              "      <th>SHY Bonds</th>\n",
              "      <th>XLB Materials</th>\n",
              "      <th>XLE Energy</th>\n",
              "      <th>XLF Financial</th>\n",
              "      <th>XLI Indust.</th>\n",
              "      <th>XLK Tech.</th>\n",
              "      <th>XLP Staples</th>\n",
              "      <th>XLU Util.</th>\n",
              "      <th>XLV Health</th>\n",
              "    </tr>\n",
              "  </thead>\n",
              "  <tbody>\n",
              "    <tr>\n",
              "      <th>0</th>\n",
              "      <td>2007-04</td>\n",
              "      <td>1.000</td>\n",
              "      <td>1.044</td>\n",
              "      <td>1.068</td>\n",
              "      <td>1.016</td>\n",
              "      <td>1.035</td>\n",
              "      <td>1.032</td>\n",
              "      <td>1.004</td>\n",
              "      <td>0.987</td>\n",
              "      <td>1.014</td>\n",
              "    </tr>\n",
              "    <tr>\n",
              "      <th>1</th>\n",
              "      <td>2007-03</td>\n",
              "      <td>1.003</td>\n",
              "      <td>1.015</td>\n",
              "      <td>1.051</td>\n",
              "      <td>1.039</td>\n",
              "      <td>1.046</td>\n",
              "      <td>1.047</td>\n",
              "      <td>1.028</td>\n",
              "      <td>1.049</td>\n",
              "      <td>1.073</td>\n",
              "    </tr>\n",
              "    <tr>\n",
              "      <th>2</th>\n",
              "      <td>2007-02</td>\n",
              "      <td>1.005</td>\n",
              "      <td>1.024</td>\n",
              "      <td>1.062</td>\n",
              "      <td>0.994</td>\n",
              "      <td>1.008</td>\n",
              "      <td>1.010</td>\n",
              "      <td>1.021</td>\n",
              "      <td>1.036</td>\n",
              "      <td>1.002</td>\n",
              "    </tr>\n",
              "    <tr>\n",
              "      <th>3</th>\n",
              "      <td>2007-01</td>\n",
              "      <td>1.007</td>\n",
              "      <td>1.027</td>\n",
              "      <td>0.980</td>\n",
              "      <td>0.971</td>\n",
              "      <td>0.989</td>\n",
              "      <td>0.973</td>\n",
              "      <td>0.985</td>\n",
              "      <td>1.053</td>\n",
              "      <td>0.977</td>\n",
              "    </tr>\n",
              "    <tr>\n",
              "      <th>4</th>\n",
              "      <td>2006-12</td>\n",
              "      <td>1.002</td>\n",
              "      <td>1.040</td>\n",
              "      <td>0.991</td>\n",
              "      <td>1.009</td>\n",
              "      <td>1.021</td>\n",
              "      <td>1.020</td>\n",
              "      <td>1.020</td>\n",
              "      <td>0.996</td>\n",
              "      <td>1.030</td>\n",
              "    </tr>\n",
              "    <tr>\n",
              "      <th>5</th>\n",
              "      <td>2006-11</td>\n",
              "      <td>1.001</td>\n",
              "      <td>0.995</td>\n",
              "      <td>0.969</td>\n",
              "      <td>1.030</td>\n",
              "      <td>0.997</td>\n",
              "      <td>0.989</td>\n",
              "      <td>1.020</td>\n",
              "      <td>0.999</td>\n",
              "      <td>1.007</td>\n",
              "    </tr>\n",
              "    <tr>\n",
              "      <th>6</th>\n",
              "      <td>2006-10</td>\n",
              "      <td>1.005</td>\n",
              "      <td>1.044</td>\n",
              "      <td>1.086</td>\n",
              "      <td>1.007</td>\n",
              "      <td>1.024</td>\n",
              "      <td>1.028</td>\n",
              "      <td>0.991</td>\n",
              "      <td>1.026</td>\n",
              "      <td>0.999</td>\n",
              "    </tr>\n",
              "    <tr>\n",
              "      <th>7</th>\n",
              "      <td>2006-09</td>\n",
              "      <td>1.004</td>\n",
              "      <td>1.060</td>\n",
              "      <td>1.043</td>\n",
              "      <td>1.023</td>\n",
              "      <td>1.028</td>\n",
              "      <td>1.040</td>\n",
              "      <td>1.018</td>\n",
              "      <td>1.053</td>\n",
              "      <td>1.003</td>\n",
              "    </tr>\n",
              "    <tr>\n",
              "      <th>8</th>\n",
              "      <td>2006-08</td>\n",
              "      <td>1.004</td>\n",
              "      <td>1.000</td>\n",
              "      <td>0.963</td>\n",
              "      <td>1.040</td>\n",
              "      <td>1.038</td>\n",
              "      <td>1.040</td>\n",
              "      <td>0.999</td>\n",
              "      <td>0.985</td>\n",
              "      <td>1.015</td>\n",
              "    </tr>\n",
              "    <tr>\n",
              "      <th>9</th>\n",
              "      <td>2006-07</td>\n",
              "      <td>1.008</td>\n",
              "      <td>1.030</td>\n",
              "      <td>0.949</td>\n",
              "      <td>1.012</td>\n",
              "      <td>1.011</td>\n",
              "      <td>1.070</td>\n",
              "      <td>1.039</td>\n",
              "      <td>1.028</td>\n",
              "      <td>1.029</td>\n",
              "    </tr>\n",
              "    <tr>\n",
              "      <th>10</th>\n",
              "      <td>2006-06</td>\n",
              "      <td>1.007</td>\n",
              "      <td>0.963</td>\n",
              "      <td>1.034</td>\n",
              "      <td>1.023</td>\n",
              "      <td>0.943</td>\n",
              "      <td>0.974</td>\n",
              "      <td>1.016</td>\n",
              "      <td>1.048</td>\n",
              "      <td>1.055</td>\n",
              "    </tr>\n",
              "    <tr>\n",
              "      <th>11</th>\n",
              "      <td>2006-05</td>\n",
              "      <td>1.002</td>\n",
              "      <td>1.005</td>\n",
              "      <td>1.022</td>\n",
              "      <td>0.995</td>\n",
              "      <td>0.999</td>\n",
              "      <td>0.995</td>\n",
              "      <td>1.018</td>\n",
              "      <td>1.023</td>\n",
              "      <td>1.000</td>\n",
              "    </tr>\n",
              "    <tr>\n",
              "      <th>12</th>\n",
              "      <td>2006-04</td>\n",
              "      <td>1.002</td>\n",
              "      <td>0.960</td>\n",
              "      <td>0.972</td>\n",
              "      <td>0.962</td>\n",
              "      <td>0.983</td>\n",
              "      <td>0.935</td>\n",
              "      <td>1.002</td>\n",
              "      <td>1.016</td>\n",
              "      <td>0.979</td>\n",
              "    </tr>\n",
              "    <tr>\n",
              "      <th>13</th>\n",
              "      <td>2006-03</td>\n",
              "      <td>1.002</td>\n",
              "      <td>1.035</td>\n",
              "      <td>1.050</td>\n",
              "      <td>1.043</td>\n",
              "      <td>1.021</td>\n",
              "      <td>0.987</td>\n",
              "      <td>1.010</td>\n",
              "      <td>1.016</td>\n",
              "      <td>0.969</td>\n",
              "    </tr>\n",
              "    <tr>\n",
              "      <th>14</th>\n",
              "      <td>2006-02</td>\n",
              "      <td>1.002</td>\n",
              "      <td>1.047</td>\n",
              "      <td>1.042</td>\n",
              "      <td>1.003</td>\n",
              "      <td>1.044</td>\n",
              "      <td>1.023</td>\n",
              "      <td>1.008</td>\n",
              "      <td>0.954</td>\n",
              "      <td>0.987</td>\n",
              "    </tr>\n",
              "    <tr>\n",
              "      <th>15</th>\n",
              "      <td>2006-01</td>\n",
              "      <td>1.000</td>\n",
              "      <td>0.978</td>\n",
              "      <td>0.908</td>\n",
              "      <td>1.021</td>\n",
              "      <td>1.031</td>\n",
              "      <td>1.002</td>\n",
              "      <td>1.008</td>\n",
              "      <td>1.013</td>\n",
              "      <td>1.012</td>\n",
              "    </tr>\n",
              "    <tr>\n",
              "      <th>16</th>\n",
              "      <td>2005-12</td>\n",
              "      <td>1.002</td>\n",
              "      <td>1.048</td>\n",
              "      <td>1.146</td>\n",
              "      <td>1.009</td>\n",
              "      <td>1.003</td>\n",
              "      <td>1.034</td>\n",
              "      <td>1.002</td>\n",
              "      <td>1.024</td>\n",
              "      <td>1.013</td>\n",
              "    </tr>\n",
              "    <tr>\n",
              "      <th>17</th>\n",
              "      <td>2005-11</td>\n",
              "      <td>1.004</td>\n",
              "      <td>1.029</td>\n",
              "      <td>1.018</td>\n",
              "      <td>1.000</td>\n",
              "      <td>1.005</td>\n",
              "      <td>0.969</td>\n",
              "      <td>1.001</td>\n",
              "      <td>1.009</td>\n",
              "      <td>1.035</td>\n",
              "    </tr>\n",
              "    <tr>\n",
              "      <th>18</th>\n",
              "      <td>2005-10</td>\n",
              "      <td>1.004</td>\n",
              "      <td>1.076</td>\n",
              "      <td>1.015</td>\n",
              "      <td>1.048</td>\n",
              "      <td>1.058</td>\n",
              "      <td>1.063</td>\n",
              "      <td>1.009</td>\n",
              "      <td>0.999</td>\n",
              "      <td>1.012</td>\n",
              "    </tr>\n",
              "    <tr>\n",
              "      <th>19</th>\n",
              "      <td>2005-09</td>\n",
              "      <td>0.999</td>\n",
              "      <td>1.002</td>\n",
              "      <td>0.909</td>\n",
              "      <td>1.030</td>\n",
              "      <td>0.986</td>\n",
              "      <td>0.977</td>\n",
              "      <td>0.996</td>\n",
              "      <td>0.936</td>\n",
              "      <td>0.969</td>\n",
              "    </tr>\n",
              "    <tr>\n",
              "      <th>20</th>\n",
              "      <td>2005-08</td>\n",
              "      <td>0.997</td>\n",
              "      <td>1.008</td>\n",
              "      <td>1.063</td>\n",
              "      <td>1.009</td>\n",
              "      <td>1.017</td>\n",
              "      <td>1.002</td>\n",
              "      <td>1.014</td>\n",
              "      <td>1.042</td>\n",
              "      <td>0.995</td>\n",
              "    </tr>\n",
              "    <tr>\n",
              "      <th>21</th>\n",
              "      <td>2005-07</td>\n",
              "      <td>1.007</td>\n",
              "      <td>0.958</td>\n",
              "      <td>1.064</td>\n",
              "      <td>0.983</td>\n",
              "      <td>0.976</td>\n",
              "      <td>0.991</td>\n",
              "      <td>0.983</td>\n",
              "      <td>1.006</td>\n",
              "      <td>0.996</td>\n",
              "    </tr>\n",
              "    <tr>\n",
              "      <th>22</th>\n",
              "      <td>2005-06</td>\n",
              "      <td>0.996</td>\n",
              "      <td>1.056</td>\n",
              "      <td>1.071</td>\n",
              "      <td>1.016</td>\n",
              "      <td>1.038</td>\n",
              "      <td>1.057</td>\n",
              "      <td>1.032</td>\n",
              "      <td>1.023</td>\n",
              "      <td>1.023</td>\n",
              "    </tr>\n",
              "    <tr>\n",
              "      <th>23</th>\n",
              "      <td>2005-05</td>\n",
              "      <td>1.002</td>\n",
              "      <td>0.980</td>\n",
              "      <td>1.070</td>\n",
              "      <td>1.012</td>\n",
              "      <td>0.974</td>\n",
              "      <td>0.987</td>\n",
              "      <td>0.981</td>\n",
              "      <td>1.059</td>\n",
              "      <td>0.994</td>\n",
              "    </tr>\n",
              "  </tbody>\n",
              "</table>\n",
              "</div>\n",
              "      <button class=\"colab-df-convert\" onclick=\"convertToInteractive('df-2f88ae94-25aa-4c06-9de8-3f67a99c0c41')\"\n",
              "              title=\"Convert this dataframe to an interactive table.\"\n",
              "              style=\"display:none;\">\n",
              "        \n",
              "  <svg xmlns=\"http://www.w3.org/2000/svg\" height=\"24px\"viewBox=\"0 0 24 24\"\n",
              "       width=\"24px\">\n",
              "    <path d=\"M0 0h24v24H0V0z\" fill=\"none\"/>\n",
              "    <path d=\"M18.56 5.44l.94 2.06.94-2.06 2.06-.94-2.06-.94-.94-2.06-.94 2.06-2.06.94zm-11 1L8.5 8.5l.94-2.06 2.06-.94-2.06-.94L8.5 2.5l-.94 2.06-2.06.94zm10 10l.94 2.06.94-2.06 2.06-.94-2.06-.94-.94-2.06-.94 2.06-2.06.94z\"/><path d=\"M17.41 7.96l-1.37-1.37c-.4-.4-.92-.59-1.43-.59-.52 0-1.04.2-1.43.59L10.3 9.45l-7.72 7.72c-.78.78-.78 2.05 0 2.83L4 21.41c.39.39.9.59 1.41.59.51 0 1.02-.2 1.41-.59l7.78-7.78 2.81-2.81c.8-.78.8-2.07 0-2.86zM5.41 20L4 18.59l7.72-7.72 1.47 1.35L5.41 20z\"/>\n",
              "  </svg>\n",
              "      </button>\n",
              "      \n",
              "  <style>\n",
              "    .colab-df-container {\n",
              "      display:flex;\n",
              "      flex-wrap:wrap;\n",
              "      gap: 12px;\n",
              "    }\n",
              "\n",
              "    .colab-df-convert {\n",
              "      background-color: #E8F0FE;\n",
              "      border: none;\n",
              "      border-radius: 50%;\n",
              "      cursor: pointer;\n",
              "      display: none;\n",
              "      fill: #1967D2;\n",
              "      height: 32px;\n",
              "      padding: 0 0 0 0;\n",
              "      width: 32px;\n",
              "    }\n",
              "\n",
              "    .colab-df-convert:hover {\n",
              "      background-color: #E2EBFA;\n",
              "      box-shadow: 0px 1px 2px rgba(60, 64, 67, 0.3), 0px 1px 3px 1px rgba(60, 64, 67, 0.15);\n",
              "      fill: #174EA6;\n",
              "    }\n",
              "\n",
              "    [theme=dark] .colab-df-convert {\n",
              "      background-color: #3B4455;\n",
              "      fill: #D2E3FC;\n",
              "    }\n",
              "\n",
              "    [theme=dark] .colab-df-convert:hover {\n",
              "      background-color: #434B5C;\n",
              "      box-shadow: 0px 1px 3px 1px rgba(0, 0, 0, 0.15);\n",
              "      filter: drop-shadow(0px 1px 2px rgba(0, 0, 0, 0.3));\n",
              "      fill: #FFFFFF;\n",
              "    }\n",
              "  </style>\n",
              "\n",
              "      <script>\n",
              "        const buttonEl =\n",
              "          document.querySelector('#df-2f88ae94-25aa-4c06-9de8-3f67a99c0c41 button.colab-df-convert');\n",
              "        buttonEl.style.display =\n",
              "          google.colab.kernel.accessAllowed ? 'block' : 'none';\n",
              "\n",
              "        async function convertToInteractive(key) {\n",
              "          const element = document.querySelector('#df-2f88ae94-25aa-4c06-9de8-3f67a99c0c41');\n",
              "          const dataTable =\n",
              "            await google.colab.kernel.invokeFunction('convertToInteractive',\n",
              "                                                     [key], {});\n",
              "          if (!dataTable) return;\n",
              "\n",
              "          const docLinkHtml = 'Like what you see? Visit the ' +\n",
              "            '<a target=\"_blank\" href=https://colab.research.google.com/notebooks/data_table.ipynb>data table notebook</a>'\n",
              "            + ' to learn more about interactive tables.';\n",
              "          element.innerHTML = '';\n",
              "          dataTable['output_type'] = 'display_data';\n",
              "          await google.colab.output.renderOutput(dataTable, element);\n",
              "          const docLink = document.createElement('div');\n",
              "          docLink.innerHTML = docLinkHtml;\n",
              "          element.appendChild(docLink);\n",
              "        }\n",
              "      </script>\n",
              "    </div>\n",
              "  </div>\n",
              "  "
            ]
          },
          "metadata": {},
          "execution_count": 2
        }
      ]
    },
    {
      "cell_type": "markdown",
      "source": [
        "As we can see we are provided monthly returns if we invest $1\\$$ in some particular month to particular asset."
      ],
      "metadata": {
        "id": "qmb7PKmexVJy"
      }
    },
    {
      "cell_type": "code",
      "source": [
        "# time, needed for time-series plot\n",
        "time = np.array(data['Year- Month'].values)\n",
        "\n",
        "# time doesn't matter in calculations => drop it\n",
        "data.drop(columns=[\"Year- Month\"], inplace=True)\n",
        "returns = np.array(data.values)\n",
        "\n",
        "# names of assets \n",
        "titles = data.columns\n",
        "\n",
        "# T – number of time steps, n – number of assets  \n",
        "T, n = returns.shape"
      ],
      "metadata": {
        "id": "E1ThQE_fca_W"
      },
      "execution_count": 3,
      "outputs": []
    },
    {
      "cell_type": "markdown",
      "source": [
        "## Draw data"
      ],
      "metadata": {
        "id": "T6vZ4_aQaErl"
      }
    },
    {
      "cell_type": "markdown",
      "source": [
        "It is always a good practice to draw data to get some insigths."
      ],
      "metadata": {
        "id": "b-U8HnF2x9TG"
      }
    },
    {
      "cell_type": "code",
      "source": [
        "# draw loss graphs for training and test datasets\n",
        "\n",
        "fig, ax = plt.subplots(figsize=(12, 7))\n",
        "ax.set_title(f'Monthly returns per dollar',fontsize=20)\n",
        "ax.set_xlabel('Time',  fontsize=15)\n",
        "ax.set_ylabel(f'Return',  fontsize=15)\n",
        "\n",
        "for i in range(n):\n",
        "\n",
        "    ax.plot(time[::-1], returns[::-1].T[i], label=f\"{titles[i]}\")\n",
        "\n",
        "for tick in ax.get_xticklabels():\n",
        "    tick.set_rotation(45)    \n",
        "\n",
        "ax.legend(bbox_to_anchor=(1.1, 1.05))\n",
        "plt.show()"
      ],
      "metadata": {
        "colab": {
          "base_uri": "https://localhost:8080/",
          "height": 695
        },
        "id": "p2M8QCHUaInO",
        "outputId": "5ee75a25-fd64-425f-a18a-ea1fafe5b017"
      },
      "execution_count": 37,
      "outputs": [
        {
          "output_type": "display_data",
          "data": {
            "text/plain": [
              "<Figure size 1200x700 with 1 Axes>"
            ],
            "image/png": "[encoded data removed]"
          },
          "metadata": {}
        }
      ]
    },
    {
      "cell_type": "markdown",
      "source": [
        "As we can see from the graphs, some of the assets are very stochastic, but some are more or less stable.\n",
        "\n",
        "But how we can decide how many percentage invest in each asset given we are ready to risk with risk parameter $\\mu$."
      ],
      "metadata": {
        "id": "MMkvzESTyDfT"
      }
    },
    {
      "cell_type": "markdown",
      "source": [
        "##Portfolio Selection problem"
      ],
      "metadata": {
        "id": "yf8I3DfzRFkr"
      }
    },
    {
      "cell_type": "markdown",
      "source": [
        "This is so called portfolio selection problem. And this can be stated as optimization problem:"
      ],
      "metadata": {
        "id": "QcnZW_63yZV8"
      }
    },
    {
      "cell_type": "markdown",
      "source": [
        "\\begin{align}\n",
        "   &\\text{maximize } \\mu\\sum_j{x_j\\mathbb{E}R_j} - \\mathbb{E}\\sum_{j}\\left|x_j \\tilde R_j \\right| \\\\\n",
        "   &\\text{subject to } \\sum_j{x_j} = 1, \\ x_j \\geq 0,\\quad j=1,2,\\dots n  \\\\\n",
        "\\end{align}\n",
        "\n",
        "Where $\\tilde R_j = R_j - \\mathbb{E}R_j$ and $\\mathbb{E}R$ denotes expected value. $\\mu$ is a risk aversion parameter. \n",
        "\n",
        "For simplicity, given some historical data we can approximate expected value $$\\mathbb{E}R_j = \\frac{1}{T}\\sum_{t=1}^{T}{R_j(t)}.$$"
      ],
      "metadata": {
        "id": "YgC_X3YVRQ9V"
      }
    },
    {
      "cell_type": "markdown",
      "source": [
        "#Portfolio Selection given known historical data"
      ],
      "metadata": {
        "id": "8iuaG67yOwFo"
      }
    },
    {
      "cell_type": "markdown",
      "source": [
        "\\begin{align}\n",
        "   &\\text{maximize } \\mu\\sum_j{x_jr_j} - \\frac{1}{T}\\sum_{t=1}^T\\left|{\\sum_j{x_j\\left(R_j(t)-r_j\\right)}}\\right| \\\\\n",
        "   &\\text{subject to } \\sum_j{x_j} = 1, \\ x_j \\geq 0,\\quad j=1,2,\\dots n  \\\\\n",
        "\\end{align}\n",
        "\n",
        "Where $r_j = \\frac{1}{T}\\sum_{t=1}^T R_j(t)$ denotes expected reward for asset $j$."
      ],
      "metadata": {
        "id": "COv1FEviO_eT"
      }
    },
    {
      "cell_type": "markdown",
      "source": [
        "Now, we can further simplify expression by defining\n",
        "$$y_t = \\left|{\\sum_j{x_j\\left(R_j(t)-r_j\\right)}}\\right|$$\n",
        "Since, it is equality constraint we can rewrite it as:\n",
        "$$y_t \\leq {\\sum_j{x_j\\left(R_j(t)-r_j\\right)}}$$\n",
        "$$y_t \\geq {\\sum_j{x_j\\left(R_j(t)-r_j\\right)}}$$\n",
        "\n",
        "So final Linear Programming problem can be expressed as:\n",
        "\n",
        "\\begin{align}\n",
        "   \\text{maximize: } &\\mu\\sum_j{x_jr_j} - \\frac{1}{T}\\sum_{t=1}^T y_t \\\\\n",
        "   \\text{subject to: } &{\\sum_j{x_j\\left(R_j(t)-r_j\\right)}} \\leq y_t \\\\\n",
        "   &-{\\sum_j{x_j\\left(R_j(t)-r_j\\right)}} \\leq y_t \\\\\n",
        "    &\\sum_j{x_j} = 1, \\quad x_j \\geq 0 \\quad  j=1,2,\\dots n  \\\\\n",
        "    &y_t \\geq 0 \\quad  t=1,2,\\dots T\n",
        "\\end{align}"
      ],
      "metadata": {
        "id": "X7obCpIRTh7O"
      }
    },
    {
      "cell_type": "code",
      "source": [
        "# formula for r\n",
        "r = lambda j: np.mean(returns[:, j])"
      ],
      "metadata": {
        "id": "oWoOdWa1Vyjh"
      },
      "execution_count": 5,
      "outputs": []
    },
    {
      "cell_type": "markdown",
      "source": [
        "How to solve such problem? "
      ],
      "metadata": {
        "id": "ajOp1z3yy-2y"
      }
    },
    {
      "cell_type": "markdown",
      "source": [
        "#Naive: Solution via Simplex Method (by varying parameter)"
      ],
      "metadata": {
        "id": "pMl9TDn69kXO"
      }
    },
    {
      "cell_type": "markdown",
      "source": [
        "Just set $\\mu$ to some known number and solve it via simplex method. Python already has some known implementations to solve linear programming problems. We just need to formulate problem in a matrix form.\n",
        "\n",
        "I will set first $n$ variables to denote $x_j$ for $j=0\\dots n-1$ and next $T$ variables for $y_i$ for $i=0\\dots T-1$."
      ],
      "metadata": {
        "id": "m6vfu3Jny9mA"
      }
    },
    {
      "cell_type": "code",
      "source": [
        "def create_lp(mu):\n",
        "\n",
        "    # let z be coefficient of variables in objective function (easy)\n",
        "    z = np.array([r(i)*mu for i in range(n)]  + [-1/T]*T)\n",
        "\n",
        "    # let b be coefficient of variables in objective function (easy)\n",
        "    b = np.array([0]*(2*T) + [1])\n",
        "\n",
        "    #coefficients of variables in the constraints\n",
        "    constraint = []\n",
        "\n",
        "    for t in range(T):\n",
        "\n",
        "        temp = [0 for i in range(T)]\n",
        "        temp[t] = -1\n",
        "        constraint.append(np.array([returns[t, j]-r(j) for j in range(n)] + temp))\n",
        "        constraint.append(np.array([-(returns[t, j]-r(j)) for j in range(n)] + temp ))\n",
        "\n",
        "    # last constraint without y\n",
        "    constraint.append(np.array([1]*n+[0]*(T)))\n",
        "\n",
        "    return z, b, np.array(constraint)"
      ],
      "metadata": {
        "id": "_4JTsaPLYXcw"
      },
      "execution_count": 6,
      "outputs": []
    },
    {
      "cell_type": "code",
      "source": [
        "# set μ, write problem in a matrix form\n",
        "mu = 1\n",
        "z, b, A = create_lp(mu)\n",
        "\n",
        "# use function to solve LP\n",
        "\n",
        "# Note: function is used for minimization problems, so \n",
        "# pass objective function with '–'\n",
        "# A_ub, b_ub notation used when passed problem is with less/or equal signs\n",
        "\n",
        "res = linprog(-z, A_ub=A, b_ub=b)\n",
        "res"
      ],
      "metadata": {
        "colab": {
          "base_uri": "https://localhost:8080/"
        },
        "id": "O-WfVhI0Bgdn",
        "outputId": "73c8aab0-82a9-46a2-d843-a2adf7a8f0bf"
      },
      "execution_count": 7,
      "outputs": [
        {
          "output_type": "execute_result",
          "data": {
            "text/plain": [
              "        message: Optimization terminated successfully. (HiGHS Status 7: Optimal)\n",
              "        success: True\n",
              "         status: 0\n",
              "            fun: -1.0036154835427797\n",
              "              x: [ 0.000e+00  2.139e-01 ...  1.408e-02  0.000e+00]\n",
              "            nit: 38\n",
              "          lower:  residual: [ 0.000e+00  2.139e-01 ...  1.408e-02\n",
              "                              0.000e+00]\n",
              "                 marginals: [ 7.989e-04  0.000e+00 ...  0.000e+00\n",
              "                              3.052e-02]\n",
              "          upper:  residual: [       inf        inf ...        inf\n",
              "                                    inf]\n",
              "                 marginals: [ 0.000e+00  0.000e+00 ...  0.000e+00\n",
              "                              0.000e+00]\n",
              "          eqlin:  residual: []\n",
              "                 marginals: []\n",
              "        ineqlin:  residual: [ 0.000e+00  0.000e+00 ...  0.000e+00\n",
              "                              0.000e+00]\n",
              "                 marginals: [-0.000e+00 -3.413e-02 ... -1.115e-02\n",
              "                             -1.004e+00]\n",
              " mip_node_count: 0\n",
              " mip_dual_bound: 0.0\n",
              "        mip_gap: 0.0"
            ]
          },
          "metadata": {},
          "execution_count": 7
        }
      ]
    },
    {
      "cell_type": "markdown",
      "source": [
        "First $n$ number of `res.x` will return values of $x$ and next values are for $y$.\n"
      ],
      "metadata": {
        "id": "VHx_LYZC1kA0"
      }
    },
    {
      "cell_type": "code",
      "source": [
        "print(f\"With risk parameter 𝜇={mu}\\n--------------------------\")\n",
        "for i, j in zip(res.x[:n], titles):\n",
        "    print(f\"{j}: {i*100:.3f}%\")"
      ],
      "metadata": {
        "colab": {
          "base_uri": "https://localhost:8080/"
        },
        "id": "97ekQpxB2SDj",
        "outputId": "addbcd14-c030-492d-f731-1117d944db6f"
      },
      "execution_count": 8,
      "outputs": [
        {
          "output_type": "stream",
          "name": "stdout",
          "text": [
            "With risk parameter 𝜇=1\n",
            "--------------------------\n",
            "SHY Bonds: 0.000%\n",
            "XLB Materials: 21.390%\n",
            "XLE Energy: 0.000%\n",
            "XLF Financial: 42.606%\n",
            "XLI Indust.: 2.593%\n",
            "XLK Tech.: 0.000%\n",
            "XLP Staples: 7.453%\n",
            "XLU Util.: 25.958%\n",
            "XLV Health: 0.000%\n"
          ]
        }
      ]
    },
    {
      "cell_type": "markdown",
      "source": [
        "So, if we repeat this problem for many values of $\\mu$, we can construct an efficient frountier of this portfolio selection problem.\n",
        "\n",
        "\n"
      ],
      "metadata": {
        "id": "KBabyUl51bFJ"
      }
    },
    {
      "cell_type": "code",
      "source": [
        "mu = np.linspace(0, 10, 1000)\n",
        "result = []\n",
        "\n",
        "for val in mu:\n",
        "\n",
        "    z, b, A = create_lp(val)\n",
        "    res = linprog(-z, A_ub=A, b_ub=b)\n",
        "    result.append(res.x[:n])\n",
        "\n",
        "values = np.array(result).T"
      ],
      "metadata": {
        "id": "LMO_B0KXIFrm"
      },
      "execution_count": 9,
      "outputs": []
    },
    {
      "cell_type": "code",
      "source": [
        "def generate_frontier(mu, values):\n",
        "    \n",
        "    weight_counts =  {titles[i]: values[i] for i in range(n)}\n",
        "    width = mu[1]-mu[0]\n",
        "\n",
        "    fig, ax = plt.subplots(figsize = (12,10))\n",
        "    bottom = np.zeros(len(mu))\n",
        "\n",
        "    for boolean, weight_count in weight_counts.items():\n",
        "        p = ax.bar(mu, weight_count, width, label=boolean, bottom=bottom)\n",
        "        bottom += weight_count\n",
        "\n",
        "    ax.set_title(\"Optimal portfolios as a function of risk parameter μ\")\n",
        "    ax.legend(bbox_to_anchor=(1.1, 1.05) )\n",
        "    plt.show()\n"
      ],
      "metadata": {
        "id": "Q2l6QgNhZAaC"
      },
      "execution_count": 10,
      "outputs": []
    },
    {
      "cell_type": "code",
      "source": [
        "values = np.array(result).T\n",
        "\n",
        "generate_frontier(mu, values)"
      ],
      "metadata": {
        "colab": {
          "base_uri": "https://localhost:8080/",
          "height": 862
        },
        "id": "U5e402y4ZUoD",
        "outputId": "2fcfb0f0-6332-46d6-b4ea-bc2fb00e8271"
      },
      "execution_count": 11,
      "outputs": [
        {
          "output_type": "display_data",
          "data": {
            "text/plain": [
              "<Figure size 1200x1000 with 1 Axes>"
            ],
            "image/png": "[encoded data removed]"
          },
          "metadata": {}
        }
      ]
    },
    {
      "cell_type": "markdown",
      "source": [
        "From this plot, we can see that for some ranges of $\\mu$ we do redundant calculations. If we could solve problem for some ranges of $\\mu$, it would speed up calculations and provided a more accurate solution. \n",
        "\n",
        "In case of naive approach, we can state that our solution is accurate with step $\\pm 0.01$, but it required to solve LP problem $1000$ times. We can do better."
      ],
      "metadata": {
        "id": "UZeme5Be3jzj"
      }
    },
    {
      "cell_type": "markdown",
      "source": [
        "#Solution via Parametric Simplex Method"
      ],
      "metadata": {
        "id": "9cN4F9gzWe47"
      }
    },
    {
      "cell_type": "markdown",
      "source": [
        "Let us introduce slack variables $w_t^+$ and $w_t^-$:\n",
        "\n",
        "\\begin{align}\n",
        "   \\text{maximize: } &\\mu\\sum_j{x_jr_j} - \\frac{1}{T}\\sum_{t=1}^T y_t \\\\\n",
        "   \\text{subject to: } &-y_t -{\\sum_j{x_j\\left(R_j(t)-r_j\\right)}} + w_t^- = 0  \\\\\n",
        "   &-y_t + {\\sum_j{x_j\\left(R_j(t)-r_j\\right)}} + w_t^+= 0 \\\\\n",
        "    &\\sum_j{x_j} = 1, \\quad x_j \\geq 0 \\quad  j=1,2,\\dots n  \\\\\n",
        "    &y_t \\geq 0, \\ w_t^- \\geq 0,  \\ w_t^+ \\geq 0 \\quad  t=1,2,\\dots T\n",
        "\\end{align}"
      ],
      "metadata": {
        "id": "gU7Qw8R3Y59_"
      }
    },
    {
      "cell_type": "markdown",
      "source": [
        "\"It is easy to see that for $\\mu$ larger than some threshold, the optimal solution is to put all of our portfolio into a single asset, the one with the highest expected reward $r_j$.\" (p. 188). Let $j^*$ denote the highiest reward asset, s.t.: $$r_j^* \\geq r_j \\quad \\text{for all } j$$\n"
      ],
      "metadata": {
        "id": "HlCoCahYWhd5"
      }
    },
    {
      "cell_type": "code",
      "source": [
        "rs = np.array([r(j) for j in range(n)])\n",
        "\n",
        "for j in range(n):\n",
        "    print(f\"r_{j} = {rs[j]}\")\n",
        "\n",
        "j_star = np.argmax(rs)"
      ],
      "metadata": {
        "id": "ao2TA-eZWg3y",
        "colab": {
          "base_uri": "https://localhost:8080/"
        },
        "outputId": "eb845baa-9e1d-43bb-c910-500efffbcf4d"
      },
      "execution_count": 12,
      "outputs": [
        {
          "output_type": "stream",
          "name": "stdout",
          "text": [
            "r_0 = 1.0027083333333333\n",
            "r_1 = 1.0176666666666667\n",
            "r_2 = 1.02275\n",
            "r_3 = 1.0122916666666666\n",
            "r_4 = 1.0114583333333333\n",
            "r_5 = 1.0102083333333332\n",
            "r_6 = 1.0085416666666667\n",
            "r_7 = 1.0158333333333334\n",
            "r_8 = 1.0078333333333334\n"
          ]
        }
      ]
    },
    {
      "cell_type": "code",
      "source": [
        "print(j_star)"
      ],
      "metadata": {
        "id": "DqmF0m6Ml3ew",
        "colab": {
          "base_uri": "https://localhost:8080/"
        },
        "outputId": "92164a44-be5e-4975-8014-9aea816a697d"
      },
      "execution_count": 13,
      "outputs": [
        {
          "output_type": "stream",
          "name": "stdout",
          "text": [
            "2\n"
          ]
        }
      ]
    },
    {
      "cell_type": "markdown",
      "source": [
        "NOTE: In python indexing starts from $0$.\n",
        "\n",
        "It is easy to see that $j^* = 2$"
      ],
      "metadata": {
        "id": "aPdiONstYhJ_"
      }
    },
    {
      "cell_type": "markdown",
      "source": [
        "If we look carefully, we see that we have $3T+n$ non-negative variables and $2T+1$ constraints. So, there are $(3T+n) - (2T+1) = T+n-1$ nonbasic variables and $2T+1$ basic variables.\n",
        "\n",
        "Since, we innitialy assumed that we should invest everything to asset $j^*$, then $x_j^* = 1$ and $x_j = 0$ for the rest $j\\neq j^*$. \"We can then simply declare any variable that is positive to be basic and declare the rest to be nonbasic.\" (p. 189)\n",
        "\n",
        "1. $x_j^*$ is basic, the remaining are non-basic.\n",
        "2. $ w_t^- = y_t + (R_j^*(t)- r_{j^*})$\n",
        "2. $ w_t^+ = y_t - (R_j^*(t)- r_{j^*}) $\n",
        "\n",
        "Recall that $y_t  = \\left|{\\sum_j{x_j\\left(R_j(t)-r_j\\right)}}\\right| = | R_j^*(t)- r_{j^*}|$. It is always positive, thus is basic.\n",
        "\n",
        "\n",
        "$$w_t^- = y_t + (R_j^*(t)- r_{j^*})$$\n",
        "$$ w_t^+ = y_t - (R_j^*(t)- r_{j^*}) $$\n",
        "\n",
        "Now it obvious that if $R_j^*(t)- r_{j^*}>0$, then $w_t^-$ is basic and $w_t^+$ is non-basic. And reverse. \n",
        "\n",
        "For convinience, we can introduce next notation $$D_{tj} = R_j(t) - r_j$$\n",
        "Then,\n",
        "$$T^+ = \\{t: D_{j^*t}>0\\} \\quad \\text{and} \\quad T^- = \\{t: D_{j^*t} <0\\}$$\n",
        "\n",
        "$T^+$ denotes time when $w_t^-$ is basic and $w_t^+$ is non-basic and $T^-$ denotes time when $w_t^+$ is basic and $w_t^-$ is non-basic. "
      ],
      "metadata": {
        "id": "yhkSEAU3Y2mT"
      }
    },
    {
      "cell_type": "markdown",
      "source": [
        "Following the book, this is the optimal dictionary for this problem given $\\mu$ is sufficiently LARGE:\n",
        "<center>\n",
        "<img src=\"https://i.ibb.co/swGkcsK/Screen-Shot-2023-04-13-at-04-18-28.png\" alt=\"Screen-Shot-2023-04-13-at-04-18-28\" border=\"0\" width=\"60%\">\n",
        "</center>"
      ],
      "metadata": {
        "id": "BXP3CkojiH5f"
      }
    },
    {
      "cell_type": "code",
      "source": [
        "D = lambda t, j: returns[t, j] - r(j)\n",
        "D_matrix = np.array([[D(t, j) for j in range(n)] for t in range(T)])\n",
        "\n",
        "T_plus = np.arange(T)[D_matrix[:, j_star]>0] \n",
        "T_minus = np.arange(T)[D_matrix[:, j_star]<0]"
      ],
      "metadata": {
        "id": "W-OLTCgig6GG"
      },
      "execution_count": 14,
      "outputs": []
    },
    {
      "cell_type": "markdown",
      "source": [
        "Let $$\\epsilon_t = \\begin{cases}1, \\quad \\text{for }t\\in T^+\\\\-1, \\quad \\text{for }t\\in T^-\\end{cases}$$"
      ],
      "metadata": {
        "id": "IFLKmdPriUWd"
      }
    },
    {
      "cell_type": "code",
      "source": [
        "def epsilon(t):\n",
        "    if t in T_plus:\n",
        "        return 1\n",
        "    else:\n",
        "        return -1"
      ],
      "metadata": {
        "id": "p3Af7TNtivs4"
      },
      "execution_count": 15,
      "outputs": []
    },
    {
      "cell_type": "markdown",
      "source": [
        "##Generate Matrix A"
      ],
      "metadata": {
        "id": "PHUqXc5dwQr_"
      }
    },
    {
      "cell_type": "markdown",
      "source": [
        "How matrix can look like?\n",
        "1. n indices are reserved for $x$\n",
        "2. T indices are reserved for $w^+$\n",
        "3. T indices are reserved for $w^-$\n",
        "4. T indices are reserved for $y$"
      ],
      "metadata": {
        "id": "pUSJvCRIpzQt"
      }
    },
    {
      "cell_type": "code",
      "source": [
        "def generate_row_for_y(t, T, n, j_star,D_matrix):\n",
        "\n",
        "    row = np.zeros(n+3*T)\n",
        "\n",
        "    if t in T_plus:\n",
        "        for j in range(n):\n",
        "            if j!= j_star:\n",
        "                row[j] = D_matrix[t,j] - D_matrix[t,j_star]\n",
        "        row[n+t] = 1\n",
        "        row[n+2*T+t] = -1\n",
        "    else:\n",
        "        for j in range(n):\n",
        "            if j!= j_star:\n",
        "                row[j] = -(D_matrix[t,j] - D_matrix[t,j_star])\n",
        "        row[n+T+t] = 1\n",
        "        row[n+2*T+t] = -1\n",
        "    \n",
        "    return row\n",
        "\n",
        "def generate_row_for_w(t, T, n, j_star,D_matrix):\n",
        "    \n",
        "    row = np.zeros(n+3*T)\n",
        "    \n",
        "    if t in T_plus:\n",
        "        for j in range(n):\n",
        "            if j != j_star:\n",
        "                row[j] = 2*(D_matrix[t,j] - D_matrix[t,j_star])\n",
        "        row[n+t] = 1\n",
        "        row[n+T+t] = -1\n",
        "    else:\n",
        "        for j in range(n):\n",
        "            if j != j_star:\n",
        "                row[j] = -2*(D_matrix[t,j] - D_matrix[t,j_star])\n",
        "        row[n+T+t] = 1\n",
        "        row[n+t] = -1\n",
        "\n",
        "    return row\n",
        "\n",
        "def generate_row_for_x_star(n, T):\n",
        "\n",
        "    row = np.zeros(n+3*T)\n",
        "\n",
        "    for j in range(n):\n",
        "        row[j] = -1\n",
        "\n",
        "    return row"
      ],
      "metadata": {
        "id": "cxgMlnRqpDsF"
      },
      "execution_count": 16,
      "outputs": []
    },
    {
      "cell_type": "code",
      "source": [
        "def generate_Matrix(T, n, j_star,D_matrix):\n",
        "    matrix = [generate_row_for_y(t, T, n, j_star,D_matrix) for t in range(T)]+[generate_row_for_w(t, T, n, j_star,D_matrix) for t in range(T)]+[generate_row_for_x_star(n, T)]\n",
        "    \n",
        "    return np.array(matrix)\n"
      ],
      "metadata": {
        "id": "yeBg-SsfuCU4"
      },
      "execution_count": 17,
      "outputs": []
    },
    {
      "cell_type": "markdown",
      "source": [
        "We need to check this size of matrix. For our current problem, we have $3T+n$ variables and $2T+1$ constraints."
      ],
      "metadata": {
        "id": "pyakqAi0vbWh"
      }
    },
    {
      "cell_type": "code",
      "source": [
        "print(f\"Current number of variables: {generate_Matrix(T, n, j_star,D_matrix).shape[1]} and number of constraints: {generate_Matrix(T, n, j_star,D_matrix).shape[0]}\")\n",
        "print(f\"Expected number of variables: {3*T+n} and number of constraints: {2*T+1}\")"
      ],
      "metadata": {
        "id": "H6o_gboevann",
        "colab": {
          "base_uri": "https://localhost:8080/"
        },
        "outputId": "b1a8bb18-1694-44a5-df53-7afce8fed0a1"
      },
      "execution_count": 18,
      "outputs": [
        {
          "output_type": "stream",
          "name": "stdout",
          "text": [
            "Current number of variables: 81 and number of constraints: 49\n",
            "Expected number of variables: 81 and number of constraints: 49\n"
          ]
        }
      ]
    },
    {
      "cell_type": "markdown",
      "source": [
        "Everything is fine!"
      ],
      "metadata": {
        "id": "K9g-gV1iwJ7Q"
      }
    },
    {
      "cell_type": "code",
      "source": [
        "A = generate_Matrix(T, n, j_star,D_matrix)"
      ],
      "metadata": {
        "id": "mqjJ_DaSxlgY"
      },
      "execution_count": 19,
      "outputs": []
    },
    {
      "cell_type": "markdown",
      "source": [
        "##Generate vector b"
      ],
      "metadata": {
        "id": "yFl3ycDZwYBC"
      }
    },
    {
      "cell_type": "code",
      "source": [
        "def generate_b():\n",
        "    b = []\n",
        "    \n",
        "    for t in range(T):\n",
        "        if t in T_plus:\n",
        "            b.append(-D_matrix[t, j_star])\n",
        "        else:\n",
        "            b.append(D_matrix[t, j_star])\n",
        "\n",
        "    for t in range(T):\n",
        "\n",
        "        if t in T_plus:\n",
        "            b.append(-2*D_matrix[t, j_star])\n",
        "\n",
        "        else:\n",
        "            b.append(2*D_matrix[t, j_star])\n",
        "            \n",
        "    b.append(-1)\n",
        "\n",
        "    return np.array(b).reshape(-1,1)"
      ],
      "metadata": {
        "id": "QWxIao9HxCbF"
      },
      "execution_count": 20,
      "outputs": []
    },
    {
      "cell_type": "markdown",
      "source": [
        "For now, we have matrix $A$ of dimentsion [49, 81] and vector $b$ of size 49. We have $81$ variables.\n",
        "\n",
        "So we translated our constraints into matrix form:\n",
        "$$Ax = b$$\n",
        "\n",
        "Let $B$ be set of basic variables and $N$ set of non-basic variables."
      ],
      "metadata": {
        "id": "XDL8au-32i1k"
      }
    },
    {
      "cell_type": "code",
      "source": [
        "B = []\n",
        "N = []\n",
        "\n",
        "x_idx = list(np.arange(n))\n",
        "x_idx.pop(j_star)\n",
        "\n",
        "w_plus_idx = np.arange(n, n+T)\n",
        "w_minus_idx = np.arange(n+T, n+2*T)\n",
        "y_idx = np.arange(n+2*T, n+3*T)"
      ],
      "metadata": {
        "id": "3n_v2fPn58CJ"
      },
      "execution_count": 21,
      "outputs": []
    },
    {
      "cell_type": "markdown",
      "source": [
        "Basic variable from $w_t^+$ are those where $t\\in T^-$.\n",
        "Basic variable from $w_t^-$ are those where $t\\in T^+$.\n",
        "\n",
        "All $y$ are basic and $x_j^*$ is basic."
      ],
      "metadata": {
        "id": "oDKqlYAV68Bo"
      }
    },
    {
      "cell_type": "code",
      "source": [
        "B = list(y_idx)+ list(w_plus_idx[T_minus])+list(w_minus_idx[T_plus]) + [j_star]\n",
        "B.sort()\n"
      ],
      "metadata": {
        "id": "XbsvBSTi6653"
      },
      "execution_count": 22,
      "outputs": []
    },
    {
      "cell_type": "code",
      "source": [
        "N = list(w_plus_idx[T_plus])+list(w_minus_idx[T_minus]) + x_idx\n",
        "N.sort()"
      ],
      "metadata": {
        "id": "J_9Nzb8k8S0N"
      },
      "execution_count": 23,
      "outputs": []
    },
    {
      "cell_type": "markdown",
      "source": [
        "We are ready to proceed!"
      ],
      "metadata": {
        "id": "hLto9juG8u0Q"
      }
    },
    {
      "cell_type": "code",
      "source": [
        "len(B)+len(N)"
      ],
      "metadata": {
        "id": "OckwIo1n8r-8",
        "colab": {
          "base_uri": "https://localhost:8080/"
        },
        "outputId": "71d8b939-585c-481c-8278-1dcf52d4e89e"
      },
      "execution_count": 24,
      "outputs": [
        {
          "output_type": "execute_result",
          "data": {
            "text/plain": [
              "81"
            ]
          },
          "metadata": {},
          "execution_count": 24
        }
      ]
    },
    {
      "cell_type": "markdown",
      "source": [
        "Let's start from some notation:\n",
        "$$\\zeta = \\zeta^* - (z^*_N+\\mu \\bar z_N)^Tx_N$$\n",
        "$$x_B = (x_B^*+\\mu\\bar x_B) - B^{-1}Nx_N$$\n",
        "\n",
        "Since we are solving parametric simplex method, we assume that we use some pertubations. If we return to original problem, we recall that:\n",
        "\n",
        "$$x_j\\left(\\mu(r_j-r_{j^*})-\\frac{1}{T}\\sum_{t=0}^T{\\epsilon_t\\left(D_{tj}-D_{tj^*}\\right)}\\right), \\quad \\text{for } j\\neq j^*  $$\n",
        "\n",
        "But the same can be understood as:\n",
        "\n",
        "$$x_j(a_j+\\mu\\bar a_j)$$\n",
        "\n",
        "And note that we add this pertubation only to objective function and only to $x_j$, which means that essentialy $$\\bar x_B = 0$$"
      ],
      "metadata": {
        "id": "z1-jHyVFGSe4"
      }
    },
    {
      "cell_type": "code",
      "source": [
        "def define_pertubations():\n",
        "\n",
        "    z_bar = np.zeros(len(N)+len(B))\n",
        "    x_bar = np.zeros(len(B)+len(N))\n",
        "\n",
        "    for j in range(n):\n",
        "        if j!= j_star:\n",
        "            z_bar[j] = -(r(j) - r(j_star))\n",
        "\n",
        "    # I added some small number to x_bar, so that we don't\n",
        "    # encounter devision by 0 problem somewhere\n",
        "    # it is sufficiently small\n",
        "\n",
        "    return z_bar.reshape(-1,1), (x_bar+1e-12).reshape(-1,1)"
      ],
      "metadata": {
        "id": "lW6NolYmflqn"
      },
      "execution_count": 25,
      "outputs": []
    },
    {
      "cell_type": "markdown",
      "source": [
        "They both are strictly positive."
      ],
      "metadata": {
        "id": "FRPx0tuGTWiv"
      }
    },
    {
      "cell_type": "markdown",
      "source": [
        "<center>\n",
        "<img src=\"https://i.ibb.co/swGkcsK/Screen-Shot-2023-04-13-at-04-18-28.png\" alt=\"Screen-Shot-2023-04-13-at-04-18-28\" border=\"0\" width=\"60%\">\n",
        "</center>"
      ],
      "metadata": {
        "id": "fcXOgBceMqZ8"
      }
    },
    {
      "cell_type": "markdown",
      "source": [
        "At the moment forget about pertubed value and write vector $c$ as coefficients in the objective function: "
      ],
      "metadata": {
        "id": "JnHCzPZ4MusR"
      }
    },
    {
      "cell_type": "code",
      "source": [
        "def generate_c():\n",
        "\n",
        "    row = np.zeros(len(N)+len(B))\n",
        "\n",
        "    for j in range(n):\n",
        "        if j!=j_star:\n",
        "            row[j] = -np.mean([epsilon(t)*(D_matrix[t, j]- D_matrix[t, j_star])for t in range(T)])\n",
        "    \n",
        "    for t in range(T):\n",
        "        if t in T_plus:\n",
        "            row[n+t] = -1/T\n",
        "        else:\n",
        "            row[n+T+t] = -1/T\n",
        "            \n",
        "    return row.reshape(-1, 1)\n"
      ],
      "metadata": {
        "id": "HPIGQtmtL_oL"
      },
      "execution_count": 26,
      "outputs": []
    },
    {
      "cell_type": "markdown",
      "source": [
        "Define a super big combining everything function!"
      ],
      "metadata": {
        "id": "JwC4dvGy4znP"
      }
    },
    {
      "cell_type": "code",
      "source": [
        "def generate_parametric(T, n, j_star, D_matrix):\n",
        "\n",
        "    A = generate_Matrix(T, n, j_star,D_matrix)\n",
        "    c = generate_c()\n",
        "    b = generate_b()\n",
        "\n",
        "    B = np.array(list(y_idx)+ list(w_plus_idx[T_minus])+list(w_minus_idx[T_plus]) + [j_star])\n",
        "    N = np.array(list(w_plus_idx[T_plus])+list(w_minus_idx[T_minus]) + x_idx)\n",
        "\n",
        "    B.sort()\n",
        "    N.sort()\n",
        "\n",
        "    z_bar, x_bar = define_pertubations()\n",
        "\n",
        "    return A, c, b, z_bar, x_bar, B, N"
      ],
      "metadata": {
        "id": "jEffzZXCODic"
      },
      "execution_count": 27,
      "outputs": []
    },
    {
      "cell_type": "code",
      "source": [
        "A, c, b, z_bar_N, x_bar_B, B, N = generate_parametric(T, n, j_star, D_matrix)"
      ],
      "metadata": {
        "id": "d-M3y-TUO5PQ"
      },
      "execution_count": 28,
      "outputs": []
    },
    {
      "cell_type": "markdown",
      "source": [
        "Recall that in matrix form:\n",
        "$$z^*_N = (B^{-1}N)^Tc_B-c_N$$\n",
        "$$x^*_B= B^{-1}b$$"
      ],
      "metadata": {
        "id": "5ElzCbP7P2eV"
      }
    },
    {
      "cell_type": "code",
      "source": [
        "def z_star_calc(A, B, N, c):\n",
        "    return (inv(A[:, B])@(A[:, N])).T@c[B] - c[N]\n",
        "\n",
        "def x_star_calc(A, B, b):\n",
        "    return inv(A[:, B])@b"
      ],
      "metadata": {
        "id": "bTEpdlydVOYB"
      },
      "execution_count": 29,
      "outputs": []
    },
    {
      "cell_type": "markdown",
      "source": [
        "With pertubations it will be:\n",
        "$$ζ = ζ^∗ − ( z^*_N + μ\\bar z_N)^T x_N$$\n",
        "$$x_B = x^∗_B + μ\\bar x_B $$\n"
      ],
      "metadata": {
        "id": "fXa3lqGduZzf"
      }
    },
    {
      "cell_type": "markdown",
      "source": [
        "<center><img src=\"https://i.ibb.co/HdNQLdr/Screen-Shot-2023-04-24-at-03-03-18.png\" alt=\"Screen-Shot-2023-04-24-at-03-03-18\" border=\"0\"></center>"
      ],
      "metadata": {
        "id": "tAel_EjV7RzT"
      }
    },
    {
      "cell_type": "code",
      "source": [
        "def mu_calc(z_star_N, z_bar_N, x_star_B, x_bar_B):\n",
        "\n",
        "    # we are interested only in positive pertubations\n",
        "    idx_1 = np.arange(len(z_bar_N)).reshape(-1,1)[z_bar_N > 0]\n",
        "    idx_2 =  np.arange(len(x_bar_B)).reshape(-1,1)[x_bar_B > 0]\n",
        "\n",
        "    # max value by z ratio\n",
        "    val_1 = -z_star_N[idx_1]/z_bar_N[idx_1]\n",
        "    temp_1_idx = idx_1[np.argmax(val_1)]\n",
        "    max_temp_1 = max(val_1)\n",
        "\n",
        "    # max value by x ratio\n",
        "    val_2 = -x_star_B[idx_2]/x_bar_B[idx_2]\n",
        "    temp_2_idx = idx_2[np.argmax(val_2)]\n",
        "    max_temp_2 = max(val_2)\n",
        "\n",
        "    if max_temp_1 > max_temp_2:\n",
        "        return max_temp_1, temp_1_idx, 'j'\n",
        "    else:\n",
        "        return max_temp_2, temp_2_idx, 'i'"
      ],
      "metadata": {
        "id": "un2u5QOOcKXk"
      },
      "execution_count": 30,
      "outputs": []
    },
    {
      "cell_type": "markdown",
      "source": [
        "In Linear programming there is an assumption that $0/0 = 0$"
      ],
      "metadata": {
        "id": "B3Cc5-wA7-eS"
      }
    },
    {
      "cell_type": "code",
      "source": [
        "def div_by_0(a, b):\n",
        "    if b==0:\n",
        "        if a==0:\n",
        "            return 0\n",
        "    else:\n",
        "        return a/b\n",
        "\n",
        "def devide(a, b):\n",
        "    return np.array([div_by_0(i, j) for i,j in zip(a,b)])"
      ],
      "metadata": {
        "id": "4-olUTt2Zpvo"
      },
      "execution_count": 31,
      "outputs": []
    },
    {
      "cell_type": "code",
      "source": [
        "def solve_portfolio_selection():\n",
        "    result = {'mu':[], 'x':[]}\n",
        "\n",
        "    A, c, b, z_bar, x_bar, B, N = generate_parametric(T, n, j_star,D_matrix)\n",
        "\n",
        "    z_star = np.zeros(len(B)+len(N)).reshape(-1,1)\n",
        "    np.put(z_star, N, z_star_calc(A, B, N, c))\n",
        "\n",
        "    x_star = np.zeros(len(B)+len(N)).reshape(-1,1)\n",
        "    np.put(x_star, B, x_star_calc(A, B, b))\n",
        "\n",
        "    mu, idx, way = mu_calc(z_star[N], z_bar[N], x_star[B], x_bar[B])\n",
        "\n",
        "    while mu>0:\n",
        "\n",
        "        print(f\"Got μ={mu} with {way}\")\n",
        "\n",
        "        x = np.zeros(n)\n",
        "        np.put(x, B[B<n], x_star[B[B<n]])\n",
        "        result['x'].append(x)\n",
        "        result['mu'].append(float(mu))\n",
        "\n",
        "        if way=='j':\n",
        "            j = idx\n",
        "            delta_x_B = inv(A[:,B])@A[:,N]@np.eye(len(N))[j].reshape(-1,1)\n",
        "            i = np.argmax(devide(delta_x_B,(x_star[B]+mu*x_bar[B])).reshape(-1,1))\n",
        "            delta_z_N = -(inv(A[:,B])@A[:,N]).T@np.eye(len(B))[i].reshape(-1,1)\n",
        "        else:\n",
        "            i = idx\n",
        "            delta_z_N = -(inv(A[:,B])@A[:,N]).T@np.eye(len(B))[i].reshape(-1,1)\n",
        "            j = np.argmax(devide(delta_z_N,(z_star[N]+mu*z_bar[N])).reshape(-1,1))\n",
        "            delta_x_B = inv(A[:,B])@A[:,N]@np.eye(len(N))[j].reshape(-1,1)\n",
        "\n",
        "        t = x_star[B[i]]/delta_x_B[i]\n",
        "        t_bar = x_bar[B[i]]/delta_x_B[i]\n",
        "        s = z_star[N[j]]/delta_z_N[j]\n",
        "        s_bar = z_bar[N[j]]/delta_z_N[j]\n",
        "\n",
        "        x_star[N[j]] = t\n",
        "        x_bar[N[j]] = t_bar\n",
        "        z_star[B[i]] = s\n",
        "        z_bar[B[i]] = s_bar\n",
        "\n",
        "        np.put(x_star, B, x_star[B] - t * delta_x_B)\n",
        "        np.put(x_bar, B, x_bar[B] - t_bar * delta_x_B)\n",
        "        np.put(z_star, N, z_star[N] - s * delta_z_N)\n",
        "        np.put(z_bar, N, z_bar[N] - s_bar * delta_z_N)\n",
        "\n",
        "        temp = B[i]\n",
        "        B[i] = N[j]\n",
        "        N[j] = temp\n",
        "\n",
        "        mu, idx, way = mu_calc(z_star[N], z_bar[N], x_star[B], x_bar[B])\n",
        "\n",
        "    x = np.zeros(n)\n",
        "    np.put(x, B[B<n], x_star[B[B<n]])\n",
        "    result['x'].append(x)    \n",
        "    result['mu'].append(float(mu))\n",
        "\n",
        "    return result"
      ],
      "metadata": {
        "id": "z9LSaXesc3YI"
      },
      "execution_count": 32,
      "outputs": []
    },
    {
      "cell_type": "code",
      "source": [
        "result = solve_portfolio_selection()"
      ],
      "metadata": {
        "colab": {
          "base_uri": "https://localhost:8080/"
        },
        "id": "V8QD-gAUn2zn",
        "outputId": "d8bb865d-eaba-4945-e84c-a5f8f164d70b"
      },
      "execution_count": 33,
      "outputs": [
        {
          "output_type": "stream",
          "name": "stdout",
          "text": [
            "Got μ=[8.22814208] with j\n",
            "Got μ=[7.14480874] with j\n",
            "Got μ=[6.06420765] with j\n",
            "Got μ=[5.80054645] with j\n",
            "Got μ=[5.56497148] with j\n",
            "Got μ=[5.36880545] with j\n",
            "Got μ=[4.4969883] with j\n",
            "Got μ=[4.27511672] with j\n",
            "Got μ=[3.40551329] with j\n",
            "Got μ=[3.12384171] with j\n",
            "Got μ=[3.08002269] with j\n",
            "Got μ=[2.96786119] with j\n",
            "Got μ=[2.91272083] with j\n",
            "Got μ=[2.48154552] with j\n",
            "Got μ=[2.19448264] with j\n",
            "Got μ=[1.88425094] with j\n",
            "Got μ=[1.33811196] with j\n",
            "Got μ=[1.31718793] with j\n",
            "Got μ=[1.26691177] with j\n",
            "Got μ=[1.1433239] with j\n",
            "Got μ=[1.06154157] with j\n",
            "Got μ=[0.97873007] with j\n",
            "Got μ=[0.91825965] with j\n",
            "Got μ=[0.90859286] with j\n",
            "Got μ=[0.87015168] with j\n",
            "Got μ=[0.83724481] with j\n",
            "Got μ=[0.8244409] with j\n",
            "Got μ=[0.81084426] with j\n",
            "Got μ=[0.80214914] with j\n",
            "Got μ=[0.73841891] with j\n",
            "Got μ=[0.71185088] with j\n",
            "Got μ=[0.71175258] with j\n",
            "Got μ=[0.71136415] with j\n",
            "Got μ=[0.6732531] with j\n",
            "Got μ=[0.54468205] with j\n",
            "Got μ=[0.48477408] with j\n",
            "Got μ=[0.46372148] with j\n",
            "Got μ=[0.45348669] with j\n",
            "Got μ=[0.435877] with j\n",
            "Got μ=[0.21536031] with j\n",
            "Got μ=[0.15882565] with j\n",
            "Got μ=[0.03854284] with j\n",
            "Got μ=[6.53104311e-06] with i\n",
            "Got μ=[2.43945489e-06] with i\n",
            "Got μ=[5.36541445e-07] with i\n"
          ]
        }
      ]
    },
    {
      "cell_type": "markdown",
      "source": [
        "Ignore last 3 values since they appeared because of small pertubation of $x$ in constraints."
      ],
      "metadata": {
        "id": "KJruyVbz8o5V"
      }
    },
    {
      "cell_type": "code",
      "source": [
        "mu_val = np.array(result['mu'])[::-1]\n",
        "\n",
        "ranges = []\n",
        "\n",
        "for i in range(1, len(mu_val)):\n",
        "    ranges.append(f\"[{mu_val[i-1]:.5f}-{mu_val[i]:.5f})\")\n",
        "\n",
        "ranges.append(f\">={mu_val[-1]:.5f}\")\n",
        "res = dict(map(lambda i,j : (i,j), titles, np.array(result['x'])[::-1][3:].T))\n",
        "res['Risk parameter μ'] = ranges[3:]\n",
        "print(pd.DataFrame(res).to_string())"
      ],
      "metadata": {
        "colab": {
          "base_uri": "https://localhost:8080/"
        },
        "id": "J9anF89ctG6Q",
        "outputId": "06eac737-25b5-40bd-a3de-f4b515b0c1c0"
      },
      "execution_count": 38,
      "outputs": [
        {
          "output_type": "stream",
          "name": "stdout",
          "text": [
            "    SHY Bonds  XLB Materials  XLE Energy  XLF Financial  XLI Indust.  XLK Tech.  XLP Staples  XLU Util.  XLV Health   Risk parameter μ\n",
            "0    0.855048       0.000000    0.005236       0.010056     0.020208        0.0     0.109452   0.000000         0.0  [0.00001-0.03854)\n",
            "1    0.859255       0.000000    0.011788       0.009312     0.016113        0.0     0.103532   0.000000         0.0  [0.03854-0.15883)\n",
            "2    0.851285       0.000000    0.011909       0.007713     0.021378        0.0     0.104584   0.003131         0.0  [0.15883-0.21536)\n",
            "3    0.835160       0.000000    0.012154       0.004478     0.032030        0.0     0.106713   0.009466         0.0  [0.21536-0.43588)\n",
            "4    0.834627       0.000000    0.012368       0.004322     0.032341        0.0     0.106616   0.009726         0.0  [0.43588-0.45349)\n",
            "5    0.830527       0.000000    0.012225       0.003549     0.035090        0.0     0.107324   0.011286         0.0  [0.45349-0.46372)\n",
            "6    0.805637       0.000000    0.012540       0.000000     0.052661        0.0     0.107716   0.021446         0.0  [0.46372-0.48477)\n",
            "7    0.780422       0.000000    0.016587       0.000000     0.073223        0.0     0.095849   0.033920         0.0  [0.48477-0.54468)\n",
            "8    0.780391       0.000000    0.017167       0.000555     0.073674        0.0     0.093941   0.034272         0.0  [0.54468-0.67325)\n",
            "9    0.777030       0.000000    0.015727       0.003175     0.078482        0.0     0.089548   0.036037         0.0  [0.67325-0.71136)\n",
            "10   0.773445       0.000000    0.016998       0.000000     0.078920        0.0     0.093490   0.037147         0.0  [0.71136-0.71175)\n",
            "11   0.769851       0.000000    0.016833       0.000000     0.079578        0.0     0.095007   0.038731         0.0  [0.71175-0.71185)\n",
            "12   0.735035       0.000000    0.012236       0.006654     0.086400        0.0     0.104613   0.055062         0.0  [0.71185-0.73842)\n",
            "13   0.669109       0.000000    0.010753       0.029560     0.101832        0.0     0.097506   0.091240         0.0  [0.73842-0.80215)\n",
            "14   0.654684       0.000000    0.007488       0.088955     0.112221        0.0     0.022651   0.114002         0.0  [0.80215-0.81084)\n",
            "15   0.604633       0.024599    0.000000       0.118639     0.100331        0.0     0.021649   0.130150         0.0  [0.81084-0.82444)\n",
            "16   0.603262       0.025346    0.000000       0.121850     0.100293        0.0     0.017936   0.131313         0.0  [0.82444-0.83724)\n",
            "17   0.490362       0.108490    0.000000       0.180385     0.047538        0.0     0.017118   0.156106         0.0  [0.83724-0.87015)\n",
            "18   0.336775       0.182333    0.000000       0.293702     0.004606        0.0     0.007310   0.175273         0.0  [0.87015-0.90859)\n",
            "19   0.232327       0.192122    0.000000       0.334752     0.011219        0.0     0.028159   0.201420         0.0  [0.90859-0.91826)\n",
            "20   0.000000       0.197244    0.000000       0.411229     0.040679        0.0     0.085870   0.264978         0.0  [0.91826-0.97873)\n",
            "21   0.000000       0.213897    0.000000       0.426062     0.025929        0.0     0.074535   0.259578         0.0  [0.97873-1.06154)\n",
            "22   0.000000       0.230065    0.000000       0.418287     0.013528        0.0     0.074970   0.263150         0.0  [1.06154-1.14332)\n",
            "23   0.000000       0.246418    0.000000       0.421803     0.000000        0.0     0.069540   0.262239         0.0  [1.14332-1.26691)\n",
            "24   0.000000       0.253344    0.000000       0.424694     0.000000        0.0     0.042686   0.279276         0.0  [1.26691-1.31719)\n",
            "25   0.000000       0.260696    0.000000       0.444095     0.000000        0.0     0.000000   0.295209         0.0  [1.31719-1.33811)\n",
            "26   0.000000       0.270796    0.000000       0.426972     0.000000        0.0     0.000000   0.302231         0.0  [1.33811-1.88425)\n",
            "27   0.000000       0.307593    0.000000       0.364593     0.000000        0.0     0.000000   0.327814         0.0  [1.88425-2.19448)\n",
            "28   0.000000       0.330519    0.000000       0.356459     0.000000        0.0     0.000000   0.313021         0.0  [2.19448-2.48155)\n",
            "29   0.000000       0.419124    0.111807       0.211142     0.000000        0.0     0.000000   0.257928         0.0  [2.48155-2.91272)\n",
            "30   0.000000       0.423536    0.113291       0.200964     0.000000        0.0     0.000000   0.262209         0.0  [2.91272-2.96786)\n",
            "31   0.000000       0.423790    0.117694       0.203489     0.000000        0.0     0.000000   0.255026         0.0  [2.96786-3.08002)\n",
            "32   0.000000       0.451402    0.152537       0.158203     0.000000        0.0     0.000000   0.237857         0.0  [3.08002-3.12384)\n",
            "33   0.000000       0.520485    0.177379       0.000000     0.000000        0.0     0.000000   0.302136         0.0  [3.12384-3.40551)\n",
            "34   0.000000       0.383366    0.331549       0.000000     0.000000        0.0     0.000000   0.285085         0.0  [3.40551-4.27512)\n",
            "35   0.000000       0.331428    0.389946       0.000000     0.000000        0.0     0.000000   0.278626         0.0  [4.27512-4.49699)\n",
            "36   0.000000       0.271488    0.457340       0.000000     0.000000        0.0     0.000000   0.271172         0.0  [4.49699-5.36881)\n",
            "37   0.000000       0.318446    0.503150       0.000000     0.000000        0.0     0.000000   0.178404         0.0  [5.36881-5.56497)\n",
            "38   0.000000       0.408753    0.591247       0.000000     0.000000        0.0     0.000000   0.000000         0.0  [5.56497-5.80055)\n",
            "39   0.000000       0.295337    0.704663       0.000000     0.000000        0.0     0.000000   0.000000         0.0  [5.80055-6.06421)\n",
            "40   0.000000       0.170670    0.829330       0.000000     0.000000        0.0     0.000000   0.000000         0.0  [6.06421-7.14481)\n",
            "41   0.000000       0.117276    0.882724       0.000000     0.000000        0.0     0.000000   0.000000         0.0  [7.14481-8.22814)\n",
            "42   0.000000       0.000000    1.000000       0.000000     0.000000        0.0     0.000000   0.000000         0.0          >=8.22814\n"
          ]
        }
      ]
    },
    {
      "cell_type": "markdown",
      "source": [
        "So, using parametric simplex method, we achieved more accurate results by solving problem $42$ times vs $1000$. \n",
        "\n",
        "The results are also coincide with our intuition about the problem."
      ],
      "metadata": {
        "id": "TMNtikJB9ZB2"
      }
    }
  ]
}